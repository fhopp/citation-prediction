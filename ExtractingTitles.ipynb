{
 "cells": [
  {
   "cell_type": "code",
   "execution_count": 1,
   "metadata": {
    "collapsed": false,
    "scrolled": true
   },
   "outputs": [
    {
     "name": "stdout",
     "output_type": "stream",
     "text": [
      "('church', 'pope', 'years', 'people', 'mother', 'last', 'told', 'first', 'world', 'year', 'president', 'teresa', 'charles', 'catholic', 'during', 'life', 'u.s', 'city', 'public', 'time', 'since', 'family', 'king', 'former', 'british', 'harriman', 'against', 'country', 'vatican', 'made', 'three', 'hospital', 'minister', 'home', 'died', 'tuesday', 'government', \"n't\", 'million', 'prince', 'john', 'very', 'war', 'say', 'order', 'day', 'political', 'leader', 'heart', 'roman', 'yeltsin', 'later', 'france', 'party', 'monday', 'death', 'clinton', 'sunday', 'elvis', 'state', 'diana', 'royal', 'wednesday', 'churchill', 'official', 'service', 'including', 'film', 'while', 'week', 'left', 'work', 'paris', 'around', 'american', 'saying', 'take', 'doctors', 'group', 'son', 'queen', 'house', 'police', 'national', 'under', 'surgery', 'next', 'peace', 'paul', 'long', 'ceremony', 'month', 'thursday', 'french', 'head', 'marriage', 'operation', 'visit', 'show', 'germany', 'russian', 'days', 'love', 'news', 'ago', 'became', 'own', 'spokesman', 'says', 'television', 'never', 'mass', 'friday', 'bishop', 'held', 'members', 'prime', 'called', 'off', 'father', 'century', 'whose', 'south', 'health', 'parker', 'four', 'bowles', 'cardinal', 'officials', 'united', 'among', 'britain', 'newspaper', 'funeral', 'camilla', 'russia', 'age', 'several', 'statement', 'religious', 'private', 'media', 'added', 'women', 'reporters', 'until', 'ambassador', 'part', 'great', 'east', 'known', 'children', 'wife', 'late', 'few', 'took', 'good', 'married', 'woman', 'german', 'times', '1992', 'set', 'trip', 'union', 'leaders', 'bernardin', 'international', 'won', 'come', 'taken', 'england', 'place', 'become', 'princess', 'rights', 'rome', 'saturday', 'end', 'both', 'asked', 'charity', 'michael', 'expected', 'prize', 'second', 'born', 'past', 'local', 'throne', 'white', 'percent', 'christian', 'reuters', 'led', 'us', 'reports', 'states', 'catholics', 'pontiff', 'election', 'director', 'york', 'found', 'earlier', 'outside', 'london', 'foreign', 'go', 'give', 'used', 'want', 'nuns', 'sister', 'senior', 'court', 'major', 'know', 'music', 'law', 'help', 'came', 'right', 'thousands', 'kremlin', 'simpson', 'husband', 'close', 'old', 'conference', 'think', 'role', 'five', 'put', 'nobel', 'live', 'gave', 'art', 'town', 'winston', 'went', 'campaign', 'although', 'support', 'calcutta', 'fans', 'italian', 'men', 'washington', 'moscow', 'without', 'couple', 'member', 'missionaries', 'top', 'every', 'capital', 'best', 'might', 'miami', 'orthodox', 'wrote', 'once', 'versace', 'power', 'history', 'body', 'plans', 'away', 'god', 'third', 'recent', 'problems', 'seen', 'churches', 'early', 'palace', 'mark', 'office', 'cunanan', 'divorce', 'met', 'suffering', 'parliament', 'poland', 'nation', 'together', 'six', 'communist', 'award', 'began', 'successor', 'friends', 'book', 'priest', 'peter', 'again', 'west', 'return', 'wanted', '1994', 'economic', 'birthday', 'exhibition', 'personal', 'europe', 'soviet', 'letter', 'ill', 'museum', 'condition', 'disease', 'india', 'hope', 'secret', 'festival', 'quoted', 'wright', 'bill', 'human', 'poor', 'night', 'romania', '50', 'spent', 'june', 'groups', 'general', 'himself', 'months', 'kept', 'chief', 'announced', 'appeared', 'future', 'nazi', 'despite', 'friend', 'far', 'whether', 'pamela', 'bishops', 'popular', 'marry', 'relationship', 'denied', 'series', '1993', 'name', 'hand', 'divorced', 'archbishop', 'same', 'daughter', 'often', 'countries', 'across', 'southern', 'security', 'small', 'culture', 'october', 'appendix', 'christmas', 'little', 'sent', 'cancer', 'big', 'hours', 'brought', 'interview', 'nun', '1981', 'following', 'stay', 'special', 'meeting', 'centre', 'young', 'jews', 'buried', 'reported', 'daily', 'presidential', 'community', 'received', 'near', 'tour', 'published', 'black', 'opinion', 'believe', 'child', 'helped', 'air', 'anniversary', 'magazine', 'chicago', 'given', 'illness', 'cathedral', 'lead', 'weeks', 'conservative', 'brother', 'medical', 'going', 'leading', 'star', 'full', '10', 'opposition', 'cultural', 'money', 'ended', 'does', 'july', 'square', 'yet', 'letters', 'kennedy', 'plan', 'america', 'open', 'army', 'sale', 'north', 'today', 'duke', 'killed', 'democratic', 'timor', '20', 'european', 'due', 'planned', 'mayor', 'already', 'english', 'according', 'hundreds', 'university', 'taking', 'along', 'politics', 'nearly', 'high', 'remains', 'famous', 'evening', 'september', 'affair', 'attended', 'social', 'actor', 'spokeswoman', 'italy', 'lives', 'crowd', 'include', 'vote', 'living', 'polish', 'case', 'concert', 'issue', 'november', 'recently', 'figure', 'others', 'society', 'main', 'less', '1995', 'press', \"'m\", 'central', 'wedding', 'school', 'team', 'ever', 'happy', 'navarro-valls', 'described', 'organisation', 'always', 'radio', 'returned', 'civil', 'clear', 'whom', 'william', 'start', 'stars', 'belo', 'wants', 'saint', 'showed', 'quebec', 'fell', 'making', 'use', 'success', 'decided', 'removed', 'prayers', 'murder', '15', 'admitted', 'los', 'western', 'lost', 'angeles', 'find', 'blood', 'force', 'secretary', 'suffered', 'irish', 'august', 'sometimes', 'attack', 'hollywood', 'real', 'island', 'indonesia', 'traditional', 'turned', 'bring', 'decision', '1989', 'cause', 'least', 'bardot', 'rest', 'front', 'nearby', 'named', 'image', 'newspapers', '30', 'memorial', 'released', 'african', 'military', 'hit', 'authorities', 'northern', 'care', 'freedom', 'story', 'eastern', 'carried', 'beach', 'feature', 'actress', 'large', 'caused', 'moslem', 'something', 'monarchy', 'almost', 'march', '1991', 'speculation', 'recovery', 'hold', 'point', 'lenin', 'aides', 'strong', 'believed', 'rather', 'worked', 'final', 'boris', 'rule', 'issued', 'accused', 'built', 'council', 'industry', 'shot', 'gmt', 'crucitti', 'source', 'policy', 'elected', 'seven', 'sources', 'possible', 'polls', 'stage', 'view', 'bertil', 'priests', 'company', 'loved', 'really', 'millions', 'report', 'berlin', 'college', 'half', 'morning', 'diplomat', 'failed', 'mission', 'parties', 'attend', '1996', 'stalin', 'run', 'event', 'treated', 'nirmala', 'forced', 'salonika', 'pounds', 'picture', 'estate', 'started', 'feel', 'joined', 'coalition', 'dead', 'paid', 'gay', 'embassy', 'cannot', '100', 'committee', 'though', 'tumour', 'play', 'probably', 'scientology', 'face', 'modern', 'different', 'important', 'sense', 'behind', 'africa', 'business', 'wartime', 'everything', 'gemelli', 'leave', '76', 'fall', 'papers', 'fever', 'finally', 'message', 'chapel', 'founded', 'attempt', 'pay', 'republican', 'keep', 'trying', 'parkinson', 'tribute', 'involved', 'works', 'doctor', 'eight', 'allowed', 'successful', 'singer', 'arrived', 'within', 'red', 'played', 'refused', 'looking', 'bid', '80', 'nothing', 'hall', 'enough', 'anything', 'rock', 'opera', 'april', 'biggest', 'amid', 'elections', 'poles', 'career', 'need', 'spread', 'tests', 'included', 'brain', 'abortion', 'spiritual', 'based', 'working', 'control', 'poster', 'turn', 'services', 'papal', 'done', 'legal', 'especially', 'governor', 'territory', 'themselves', 'nuclear', 'deeply', 'however', 'huge', 'spoke', 'james', 'read', 'got', 'project', 'buddhist', 'residence', 'efforts', 'programme', 'sen', 'indian', 'violence', 'gold', 'elizabeth', 'chernomyrdin', 'move', 'region', 'honour', 'krakow', 'issues', 'disney', 'events', 'building', 'idea', 'chirac', 'largest', 'heir', 'china', 'signs', 'madonna', 'quite', 'christ', 'faith', 'charges', 'gathered', 'let', 'visited', 'saw', 'ii', 'having', 'tv', 'prison', 'swiss', 'pray', 'animal', 'figures', 'claims', 'takes', 'greek', 'ireland', 'cold', 'needed', 'prominent', 'comes', 'present', 'averell', 'holiday', 'israel', 'christians', 'battle', 'hitler', 'association', 'felt', 'followed', 'signed', 'form', 'israeli', 'fact', 'revealed', 'marrying', 'fashion', 'remained', 'powerful', 'lover', 'look', 'ruling', 'stop', '18', 'citizen', 'hard', 'britons', 'fine', 'free', 'reed', 'sweden', 'ramos', 'la', 'served', 'protest', 'broke', 'documents', 'further', 'guests', 'trembling', 'fame', 'able', 'showing', 'serious', '25', 'ellen', 'historic', 'trial', 'line', 'communism', 'remove', 'minutes', 'active', 'kohl', 'independence', 'weekend', 'pressure', 'looked', 'voice', 'artists', 'rare', 'movement', '1979', 'period', 'fear', 'tsar', 'vietnam', 'summer', 'presley', 'speak', 'victims', 'road', 'debate', 'underwent', 'job', 'officer', 'headquarters', 'flynt', 'homeland', 'step', 'department', 'details', 'republic', 'supreme', 'byzantine', 'visitors', 'monarch', 'tradition', 'change', 'entertainment', 'romanian', 'build', 'site', '1978', 'meet', 'moment', 'schedule', 'religion', 'professor', 'mrs', 'grand', 'beautiful', 'raise', 'truth', 'arts', 'carlos', 'warned', 'area', 'celebrate', 'howard', \"'ve\", 'whole', 'sun', 'fbi', 'land', 'hotel', 'influence', 'estimated', 'light', 'running', 'san', 'ban', 'movie', 'helping', 'cinema', 'market', 'particularly', 'problem', 'leadership', 'cemetery', 'nazis', 'books', 'win', 'joseph', 'bank', 'homes', 'favourite', 'twice', '16', 'ran', 'opened', 'course', 'february', 'post', 'australia', 'sold', 'car', 'films', '1990', 'larry', 'billion', 'symbol', 'gandhi', 'trouble', 'blue', 'sex', 'invited', 'stand', 'revolution', 'title', 'holy', 'better', 'foundation', 'things', 'january', 'judge', 'pop', 'posters', '17', 'founder', 'theatre', 'disorder', 'o', 'miles', 'calls', 'retreat', 'hoped', 'charge', 'bucharest', 'written', '76-year-old', 'scotland', 'december', 'port', 'itself', 'abroad', 'nations', 'fellow', 'auction', 'sound', 'everyone', 'companies', 'doing', 'tired', 'aged', 'blessing', '12', 'scheduled', 'financial', 'sell', 'labour', 'person', 'quickly', 'spirit', 'coming', 'club', 'thought', 'streets', 'continue', 'lived', 'organised', 'celebrated', 'relations', 'farrakhan', 'tried', 'prepared', 'starting', 'becoming', 'spain', 'talk', 'clubs', 'surgeon', 'performance', 'soon', 'ground', 'nursing', 'mountain', 'process', 'side', 'action', 'steps', 'solidarity', 'roots', 'pictures', 'concerned', 'strength', 'offered', '1973', 'patriarch', 'designer', 'vast', 'workers', 'deep', 'instead', 'nato', 'collection', 'swedish', 'bed', 'expressed', 'information', 'australian', 'destitute', 'wallace', 'woodlands', 'jesus', 'style', 'key', 'killing', 'shortly', 'true', 'criticism', 'jewish', 'switzerland', 'alexander', 'appears', 'winning', 'marked', 'runcie', 'pound', 'marks', 'gone', 'considered', 'struggle', 'agreed', 'oldest', 'declined', 'birth', 'cities', 'regular', 'wearing', 'dismissed', '19', 'bypass', 'launched', 'views', 'parts', 'neurological', 'visits', 'trade', 'why', 'arms', 'release', 'haemorrhage', 'try', 'audience', 'cavallo', 'remain', 'stood', 'families', 'sought', 'loss', 'youth', 'murders', 'joaquin', 'speaking', 'california', 'critics', 'respect', 'controversial', 'leg', 'forces', 'jackson', 'material', 'aide', 'stone', 'diplomatic', 'passed', '11', 'performed', 'question', 'justice', 'urged', 'deal', 'politicians', 'brief', '1971', 'treatment', 'accept', 'praised', 'vanunu', 'wonderful', 'giving', 'von', 'dies', 'kind', 'moral', 'declared', 'various', 'airport', 'houses', 'violent', 'prayer', 'sexual', 'patient', 'worldwide', 'fringe', 'photographs', 'presence', 'continued', 'parents', 'using', 'publicly', '1930s', 'playing', 'farewell', 'changes', 'castro', 'attention', 'current', 'd', 'americans', 'rich', 'appearance', 'video', 'speech', 'reforms', 'board', '1', 'hands', 'model', 'reception', 'restoration', 'difficult', 'fire', 'recorded', 'defence', 'fair', 'albright', 'perform', 'staff', 'brennan', 'regional', 'chinese', 'independent', 'topless', '1977', 'boston', 'attacks', 'trips', 'goes', 'dr', 'inside', 'ordered', 'remember', 'comment', 'fought', 'author', 'gustaf', 'grew', 'archdiocese', 'hwang', 'phillips', 'jones', 'agency', '1947', 'nicholas', 'apparently', 'a.m', 'heard', 'position', 'gets', 'adding', 'call', 'ahead', 'communists', 'advertising', 'romanians', 'words', 'movies', 'ad', 'controversy', 'price', 'maria', 'similar', 'canterbury', 'writer', 'anyone', 'missionary', 'village', 'fighting', 'native', 'grounds', 'fully', 'duties', 'looks', 'everybody', 'includes', 'brown', 'david', 'soldiers', 'status', 'mastroianni', 'windsor', 'scientologists', 'laureate', 'dinner', 'respirator', 'annual', 'dozens', 'sick', '20th', 'spanish', 'happen', 'mind', 'legacy', 'evidence', 'timorese', 'items', 'poverty', 'troops', 'lady', 'castle', 'adolf', '50th', 'floor', 'andrew', 'greater', 'record', 'alliance', \"'re\", 'treasures', 'usually', 'previous', 'electoral', 'moslems', 'committed', 'meant', 'break', 'temple', 'immigrants', '1986', '13', 'visiting', 'rejected', 'reconciliation', 'natural', 'someone', 'longer', '14', 'shared', 'buckingham', 'returning', 'anglican', 'ruled', 'era', 'cabinet', 'knew', 'latin', 'villa', 'shows', 'revolutionary', 'date', 'feet', 'thing', 'tourists', 'pages', 'herself', 'jail', 'seriously', 'promote', '24', 'watch', 'sad', 'water', 'fight', 'russians', 'growing', 'restore', 'raised', 'throughout', 'henry', 'chairman', 'jacques', '1975', 'language', 'crimes', 'korea', 'jazz', 'congress', 'coffin', 'assassination', 'citizenship', 'ancient', 'affairs', 'recalled', 'beetham', 'nine', 'bad', 'fund', 'travel', 'perhaps', 'economy', 'celebrations', 'spotlight', 'favour', 'bear', 'accompanied', 'intellectual', 'abdominal', 'schools', 'wed', 'publicity', 'development', 'golden', 'sons', 'travelled', 'representatives', 'allow', 'attending', 'bethlehem', 'surprise', 'lamour', 'agencies', 'liberal', 'pain', 'names', 'scandal', 'share', 'scene', 'wall', 'km', 'devotion', 'basilica', 'wish', 'hungary', 'christianity', 'pneumonia', 'boycott', 'towards', 'telephone', 'democracy', 'miss', 'p.m', 'helicopter', 'deng', 'lord', 'mary', 'germans', 'stockholm', 'constitution', 'decades', 'glamorous', 'widely', 'crown', 'alleged', 'mansion', 'boy', 'bulgarian', 'memoirs', 'radzinsky', 'documentary', 'criticised', 'happened', 'lies', 'holocaust', 'richard', 'jose', 'delayed', 'concern', 'dictator', 'portugal', 'fate', 'cioaba', 'kong', 'confirmed', 'tell', 'succeed', 'ending', 'referring', 'quiet', 'hero', 'bourassa', 'fears', '40', 'conservatives', 'completed', 'powers', 'eve', 'protect', 'consider', 'retire', 'common', 'federal', 'student', 'louis', 'else', 'questions', 'previously', 'munich', 'credit', 'plane', 'situation', 'popularity', 'short', 'rev', 'talks', 'faces', 'grave', 'hong', 'tours', 'version', '19th', 'sign', 'dent', 'tabloid', 'post-communist', 'invaded', 'winner', 'cuba', 'race', 'tutu', 'string', 'protestant', 'lilian', 'glittering', 'address', 'needs', 'makes', 'senate', 'complications', 'experts', '2,000', 'announcement', 'understand', 'officially', 'river', 'act', 'alabama', 'research', 'agca', 'ashes', 'hayward', 'forward', 'shown', 'envoy', 'street', 'remarks', 'dozen', 'heritage', 'denounced', 'abc', 'thomas', 'reading', 'van', 'created', 'experience', 'korean', 'conflict', 'changed', 'join', 'expect', 'headed', 'simply', 'values', 'canada', 'randolph', 'estrada', 'immediately', 'entered', 'charged', 'turning', 'francisco', 'spencer', 'lack', 'historian', 'damage', 'finding', 'band', 'review', 'bob', 'protests', 'lot', 'opponents', 'faced', 'annulment', 'forbes', 'internet', 'firm', 'candidate', 'moore', 'le', 'sotheby', 'low', 'leigh', 'mention', 'wooden', 'resistance', 'tom', 'appeal', 'middle', 'divorcee', 'gift', 'gypsies', 'drive', 'activities', 'raising', 'emotional', 'personality', 'buy', 'unity', 'completely', 'renowned', 'orange', 'drew', 'express', 'cross', 'behaviour', 'candidates', 'lee', '1997', 'pilgrims', 'decide', 'bormann', 'tomb', 'waiting', 'property', 'seemed', 'rules', '27', 'younger', 'display', 'threatened', 'markets', 'example', 'walked', 'appointed', 'indonesian', 'victory', 'liver', 'wales', '18th', 'serve', 'hindu', 'danger', 'standing', 'seat', 'institution', 'leaving', 'manley', 'blair', 'ideas', 'stepped', 'voodoo', 'ties', 'baptist', 'projects', 'ministry', 'rose', 'agenda', 'exiled', '1980', 'historical', 'bulletin', 'lebed', 'highly', 'effort', '70', 'conducted', 'resort', 'serving', 'representative', 'nationalist', 'saved', 'csu', 'artistic', 'initial', 'scottish', 'means', 'mexico', 'particular', 'centuries', '200', 'aid', 'marble', 'ali', 'tsongas', 'supporter', \"'ll\", 'chancellor', 'murdered', 'malaria', 'sat', 'highest', 'cerpa', 'greatest', 'cassisa', 'gunman', 'holding', 'gays', 'increase', 'metres', 'bearing', 'total', 'mainly', 'trust', 'easter', 'relatively', 'georgy', 'unusual', 'carey', 'boost', 'proud', 'homosexual', 'accusations', 'turkish', 'welcome', 'suspected', 'room', 'match', 'akobe', 'apart', 'daly', 'banned', '1970s', 'portuguese', 'facade', 'unprecedented', 'stern', 'handed', 'mausoleum', 'seeking', 'matter', 'paintings', 'socialist', 'whibley', '1970', 'japanese', 'dressed', 'george', 'plays', 'girls', 'comments', 'awards', 'commission', 'actors', 'above', 'interest', 'wojtyla', 'eldest', 'brazil', 'residents', 'mistress', 'taylor', 'greece', 'soul', '1946', 'feeling', \"'d\", 'system', 'approved', 'route', 'stewart', 'jakarta', 'latest', 'resignation', 'opposed', 'edward', 'thanked', 'right-wing', 'shooting', 'borer', 'cornwell', 'gutters', 'crisis', 'ex-wife', 'exile', 'emergency', 'likely', 'seems', 'blessed', 'brecker', 'suicide', '1960s', 'touch', 'praying', 'philippines', 'imminent', 'sort', 'allegations', 'debakey', 'improve', 'coast', 'budget', 'strikes', 'democrat', 'empire', '86', 'faithful', 'royals', 'lawyers', 'task', 'league', '5', '1945', 'songs', 'places', 'reputation', 'winners', 'education', 'afternoon', 'guards', 'learn', 'haiti', 'edinburgh', 'produced', 'ion', 'multimillionaire', 'photographers', 'accepted', 'represented', 'developed', 'deliberations', 'continuing', 'becket', 'wait', 'romanov', 'moved', 'weekly', 'arrival', 'giant', 'easy', 'pair', 'intellectuals', 'activist', 'challenge', 'province', 'compared', 'choice', 'chapter', 'eventually', 'musicians', 'journalists', 'chadwick', 'procession', 'margareta', '1987', 'dating', 'defeated', 'courage', 'sure', 'growth', 'ready', 'fortune', 'celebrities', 'sacred', 'writers', '3', 'responsible', 'funds', 'attacked', 'ask', 'graceland', 'planning', 'introduced', 'claim', 'alive', 'communities', 'contemporary', 'racial', 'split', 'lie', 'lesbian', 'football', 'die', 'writings', 'selling', 'crime', 'ramos-horta', 'bible', 'resume', 'succession', 'deputy', 'tree', 'eyes', 'related', 'retired', 'resigned', 'supply', '21', 'thank', 'speeches', 'cardiac', 'farnborough', 'wrong', 'repeatedly', '47', '1948', 'mccartney', 'animals', 'access', 'brothers', 'sprawling', 'cases', 'spend', 'normally', 'martin', 'f', 'reward', 'enter', 'focus', 'audiences', 'currently', 'remote', 'mean', 'allowing', 'humour', 'lahar', 'ailing', 'robert', 'jerusalem', 'sales', 'navy', 'banks', 'long-time', 'wishes', 'poll', 'mourners', 'dignitaries', 'positive', 'occasion', 'protection', 'administration', 'suburb', 'investment', '86-year-old', 'armed', 'level', '2', 'irregular', '1960', 'manhattan', 'naturalised', 'peaceful', 'slightly', 'jury', '1940', 'standards', 'admission', 'beyond', 'memory', 'prayed', 'monks', 'placed', 'slow', 'papacy', 'finch', 'constant', 'kerry', 'beloved', 'term', '75', 'recognition', 'polish-born', 'lustiger', 'complained', 'canadian', 'onassis', 'redwood', 'appealed', 'carrying', '300', 'acceptance', 'hate', 'green', 'nurse', 'interests', 'bought', 'messages', 'range', 'offensive', '1,500', 'mountains', 'follow', 'blamed', 'terms', 'flag', 'intention', 'promised', 'anne', 'operations', 'records', 'survived', 'concerts', '1949', 'postponed', 'assembly', 'carl', 'chance', '77-year-old', 'hunting', 'cruise', 'appear', 'ceausescu', 'eye', 'offer', 'worth', 'closest', 'memphis', 'sentence', 'herald', 'engagements', 'demanded', 'healthy', 'duty', 'traffic', 'keeping', 'reach', 'chosen', 'seem', 'asking', 'sweet', 'felix', 'analysts', 'row', 'possibility', 'agent', 'publisher', 'clinic', '1985', 'colon', 'manila', 'seoul', 'archives', 'alongside', 'runs', 'packed', 'captured', 'adviser', 'commoner', 'draw', 'bells', 'begin', 'unable', 'corruption', 'killer', 'stallone', 'getting', 'master', 'normal', 'sheep', 'dutch', 'myself', 'malraux', 'flew', 'majority', 'commercial', 'watching', 'flowers', 'converted', 'maybe', 'impact', 'fee', 'walls', 'session', '20,000', 'macphee', 'rushed', 'kevin', 'appointment', 'forman', 'sweeping', 'reporter', 'adopted', 'becker', 'traditions', 'choose', 'construction', 'simple', 'bbc', 'telegraph', '1972', 'ordinary', 'settlement', 'aimed', 'adultery', 'heppner', 'cancelled', 'suggested', 'pacemaker', '7', 'arrested', 'background', 'czech', 'remembered', 'fourth', '1936', 'priesthood', 'stayed', 'putting', 'tudjman', 'formed', 'ten', 'reportedly', 'intestinal', 'thoughts', 'extraordinary', 'guard', 'screen', 'beliefs', 'lisbon', 'criminal', 'alone', 'millennium', '1982', 'kelley', 'recognised', 'grant', 'constitutional', 'desire', 'offering', 'hindus', 'staying', 'mandela', 'severe', 'drug', 'inspired', '=', 'georgetown', 'ex-communists', 'extrapyramidal', 'announce', '1976', 'municipal', 'delegates', 'mount', 'complaints', 'damaged', 'ability', 'caught', 'fitted', 'presidency', 'season', 'suggestions', 'regarded', 'vomiting', 'moving', 'chemotherapy', 'influential', '85', 'marcello', 'failure', 'briefly', 'klan', 'convent', 'pancreatic', 'luxury', 'sports', 'aims', 'pronounced', 'racism', 'interviews', 'perfect', 'rival', 'horta', 'taiwan', 'expert', 'clark', 'arkansas', 'proved', 'intelligence', 'unit', 'condemned', 'publishing', 'proceedings', 'becomes', 'so-called', 'lung', 'hosted', 'speedy', 'pulled', 'victim', 'clearly', 'wake', 'generation', 'greeted', 'tourist', 'chances', 'fresh', 'cost', 'valuable', 'vladimir', 'freemasons', 'publication', 'specialists', 'size', 'headlines', 'foster', 'kalyanam', 'save', 'madrid', 'garden', 'chavis', 'arrest', 'ordained', 'constantinescu', 'hundred', 'areas', 'attempts', 'cheered', 'operating', 'llosa', 'gallagher', '1988', 'flock', 'improved', 'companion', '8', 'closed', 'broken', 'deliver', 'alexiy', 'remarkable', 'dior', 'rebel', 'formerly', 'guilty', 'editor', 'separation', 'singers', 'single', 'wine', 'malignant', 'camp', 'vargas', 'sixth', 'response', 'ignatyev', 'class', 'homecoming', 'field', 'indeed', 'reform', 'mp', 'girl', 'prices', 'beat', 'associated', 'praise', 'runaway', 'carry', 'crowds', 'oasis', 'karol', 'frail', 'round', 'invasion', 'officers', 'anaesthetic', 'burial', 'overseas', 'veteran', 'moments', 'nobody', 'trees', 'stopped', 'abuse', 'duchess', 'amount', 'sang', 'kansas', 'collapsed', '50,000', 'bigger', 'fred', 'occupation', 'harrelson', 'oscar', 'rumours', 'allies', 'reference', 'defend', 'bun', 'ude', 'points', 'chose', 'pride', 'colleagues', 'deny', 'elegant', 'charities', 'agents', 'mostly', 'magnate', 'argued', 'philadelphia', 'heirs', 'homeless', 'cardinals', 'dubbed', 'tells', 'wages', 'linked', 'products', 'demands', 'branded', 'persuade', 'baby', 'decree', 'houston', 'type', 'secrets', 'silent', 'reluctant', 'paper', 'beginning', 'hotels', 'devoted', 'opening', 'dying', 'priscilla', 'suite', 'inflammation', 'retirement', 'catholicism', 'relatives', 'studio', 'gianni', 'dancers', 'staged', 'resign', 'rap', 'reagan', 'male', 'wing', 'bonn', 'sisters', 'memories', 'dignity', 'effects', 'paying', 'casket', 'mehmet', 'shelter', 'either', 'threats', 'studies', 'eager', 'collapse', 'backed', '10th', 'celebration', 'prelate', 'prostate', 'unesco', 'gifted', \"'brien\", 'charm', 'kidney', 'organisers', 'send', 'leftist', 'quietly', 'cited', 'slain', 'wished', 'necessary', 'explain', 'concerns', 'suharto', 'certain', 'surgeons', 'stations', 'maxim', 'volunteers', 'cash', 'dramatic', 'emerged', 'calling', 'literary', 'remarry', 'venizelos', 'search', 'available', 'reese', 'addressed', 'painful', 'replacement', 'prosecutor', 'islam', 'sexually', 'ruth', 'trapp', 'crash', 'icons', 'gained', 'vanity', 'virgin', 'meetings', 'blame', 'character', 'shadow', 'colston', 'cardiologist', 'behalf', 'reelection', 'restored', '6', 'mercy', 'digby', 'chalet', 'punishing', 'request', 'lavish', 'touched', 'manager', 'angry', 'intensive', 'supported', 'population', 'regime', 'ritz', 'original', 'stores', 'involving', 'ageing', 'silence', 'firms', 'cremated', 'liberia', 'feelings', 'earned', 'jan', 'cover', 'certainly', 'convince', 'increasingly', 'writing', 'shop', 'currency', 'florida', 'discussions', 'hair', 'revelations', 'nominations', 'recording', 'swim', 'enormous', 'separate', 'nice', 'marsalis', 'romance', '1950s', 'acquired', 'prompted', 'grey', 'rural', 'delighted', 'four-day', 'gives', '33', 'journey', 'cast', 'keen', 'uk', 'traditionally', 'enemy', 'congregation', 'activity', 'grandchildren', 'gather', 'word', 'mr', 'outspoken', 'jack', '4,500', 'hectic', 'lower', 'christopher', 'beijing', 'profile', 'prostitute', 'appendectomy', 'managed', 'camps', 'practice', 'obviously', '90', 'ethnic', 'wealthy', 'iliescu', 'telling', 'acting', '11-day', 'strongly', 'finds', 'viewers', 'encouraged', 'base', 'happiness', 'snow', 'democrats', 'stories', 'launching', 'balcony', 'risk', 'host', 'engagement', 'der', 'copenhagen', 'authority', 'bringing', 'mail', 'fit', 'bond', 'miracle', 'moldova', 'java', 'unpaid', 'track', 'presented', 'continues', 'table', 'space', 'game', 'catherine', 'gov', 'tickets', 'hoping', 'receiving', 'infection', 't-shirts', 'mike', 'lights', 'frequently', 'voted', 'ladies', 'flight', '960', 'weizman', 'balkan', 'moves', 'athos', 'album', 'biography', 'neither', 'dropped', 'provincial', 'students', 'technology', 'perez', 'bills', 'evident', 'bath', 'spoken', 'openly', 'lay', 'studied', 'archive', 'columbia', 'frequent', 'abbey', 'older', 'caring', 'hungarian', '48', 'francesco', 'jimmy', 'mistake', 'academy', 'motorcade', 'seeks', 'policies', 'volcano', 'responsibility', 'singing', 'picked', 'forget', 'synod', 'prevent', 'intestine', 'scholars', 'butrint', 'worst', 'daniel', '1,000', 'gypsy', 'riviera', 'totally', 'below', 'nature', 'sean', 'tomorrow', 'joking', 'scandals', 'advertisement', 'stroke', 'dedicated', 'helmut', 'network', 'helmsley', 'massachusetts', '16th', 'designed', 'variety', '1965', 'reaction', '23', 'moccia', 'artist', 'burned', 'ideals', 'turbulent', 'celibacy', 'pocahontas', 'reveal', 'diagnosed', 'rate', 'laid', 'thatcher', 'weak', 'discovered', 'rise', 'investigation', 'fatigue', 'sympathy', 'orders', 'smile', 'ambulance', 'calm', 'upon', 'landscape', '9', 'pimen', 'abdication', 'factory', 'sir', 'undergo', 'ministers', 'exclusive', 'judges', 'viktor', 'insisted', 'tips', 'preserve', 'bury', 'expression', 'sides', 'determined', 'campaigner', 'dance', 'demanding', 'represent', 'uncertainty', 'vaillant', 'stops', 'wealth', 'homily', 'privacy', 'crypt', 'full-page', 'joanna', 'asia', 'sparked', 'journalist', 'tough', 'xvi', 'thinking', 'burns', 'prior', 'features', 'surrounding', 'broadcast', 'paint', 'corrects', 'amelia', 'architect', 'kwon', 'administrative', 'bernard', 'lovers', 'falling', 'pilla', 'contact', 'heat', 'extent', 'generations', 'balmoral', 'formally', 'inspiration', 'chubais', 'elite', 'alert', 'suspect', '1917', 'teacher', 'subject', 'bahamas', 'recover', 'painting', 'bouts', 'ailments', 'minority', 'enjoy', 'tesh', 'spring', 'sermon', 'hustler', 'unique', 'harris', 'acted', 'park', 'shields', 'blind', 'article', 'production', 'prosecutors', 'musician', 'roderick', 'neighbourhood', 'hurt', 'struck', 'thrown', 'w', 'feels', 'worshippers', 'supporters', 'landed', 'conscious', 'throw', 'turks', 'door', 'hopes', 'flown', 'represents', 'high-profile', 'respects', 'hymns', 'topic', 'heroes', 'assassinated', 'achievements', 'senator', 'hite', 'doubt', 'theme', 'granted', 'believes', 'convicted', 'draft', 'b.b', 'strip', 'warm', 'sites', 'widow', 'laws', 'nannen', 'facing', 'excluded', 'vs', 'apparent', 'kostroma', 'producer', 'smiled', 'parish', 'spending', 'finnish', 'marcos', 'food', 'boesak', 'naval', 'notorious', 'kung', 'intended', 'bars', 'nationwide', 'protestants', 'talking', 'renewed', 'clovis', 'advantage', 'episode', 'atlanta', 'bitter', 'famed', 'jersey', 'sentenced', 'deadly', 'angel', 'option', 'measures', 'marking', 'bones', 'destruction', 'lifestyle', 'numbers', 'convention', 'caribbean', 'confident', 'tatra', 'celebrating', 'anthony', '132', 'altar', 'study', 'orleans', 'empty', 'lyons', 'clergy', 'lines', 'miller', '100,000', 'inspire', 'setting', 'petersburg', 'poured', 'governments', 'friendship', 'photo', 'pilgrim', 'brigitte', 'gore', 'temperature', 'charismatic', 'bokassa', 'bit', 'depicts', 'vows', 'covered', 'tape', 'colourful', 'dollar', 'bedroom', 'earhart', 'temporary', 'ticket', 'closer', 're-elected', 'competition', 'gogh', 'roles', 'towns', 'mario', 'tipped', 'channel', 'atrocities', '1998', 'lire', 'worried', 'citizens', 'prigione', 'seized', 'stuff', 'saints', 'cdu', 'ss', 'performances', 'listed', 'surrounded', 'golf', 'honorary', 'hill', 'hailed', 'filled', 'kim', 'enjoyed', 'fast', 'walk', 'recall', 'bubis', 'croatian', 'leon', 'celebrates', 'combs', 'entering', 'quoting', '15-year-old', 'statue', 'nunbun', 'conversion', 'neighbouring', 'statements', 'outrage', 'establishment', 'midway', 'tribune', 'protesters', 'complex', 'taught', 'grandmother', 'neighbour', 'historians', 'breaking', 'rebuild', 'milos', 'quality', 'belgian', 'zyuganov', 'baptists', 'philippine', '2.3', 'decent', 'hermannsburg', 'zealand', 'philip', 'lasted', \"'connor\", 'established', '26', 'matthew', 'satisfaction', 'membership', 'admiration', 'nelson', 'economist', 'meets', 'absolutely', 'considering', 'annexed', 'reich', 'truly', 'awarded', 'commander', 'missions', 'suffer', 'corrected', 'involves', 'cut', 'speaks', 'conversation', 'mystery', 'bids', 'pelvis', 'account', 'mirecki', 'tonight', '15-year', 'danish', 'overlooking', '17th', 'resting', 'dogs', 'secure', 'unsuccessfully', 'lined', 'focused', 'assault', 'critical', 'trained', 'lake', 'aware', 'toward', 'solicitor', 'song', 'pledged', 'manner', 'penn', 'link', 'minor', 'politician', 'devastated', 'alan', 'summit', 'loud', 'tens', 'carolina', 'ottoman', 'itc', '($', 'guest', 'vice', 'juan', 'hear', 'two-day', '45', 'discuss', 'bedside', 'acts', 'conclave', 'reserved', 'kill', 'margrethe', 'aids', 'sofia', 'difficulties', 'suit', 'noted', 'paparazzi', 'economics', 'fort', 'dark', 'mahatma', 'thanks', 'blonde', '65-year-old', 'wallis', 'aim', 'gathering', 'couples', 'forgive', 'marriages', 'accord', 'zakatov', 'forms', 'compare', 'guerrillas', 'akchurin', 'materials', '42', 'shaking', 'graham', 'survive', 'closely', 'organiser', 'failing', 'destroyed', 'shares', 'weight', 'jean', 'elsewhere', 'politically', 'arteries', 'tony', 'except', 'flow', 'swept', 'immediate', 'criticise', 'julia', 'norwegian', 'platform', 'monument', 'surviving', 'rooms', 'unconscious', 'unknown', 'yes', 'decade', 'fidel', 'fatima', 'higher', 'secluded', 'stability', 'bulgaria', 'facial', 'teaching', 'well-known', 'jobs', 'corp', 'pregnancy', 'provide', 'impoverished', 'originally', 'surprised', 'shed', 'imperial', 'prepare', 'persecution', 'mentally', 'increased', 'onto', 'venture', 'donations', 'las', 'joint', 'ranks', 'churchmen', 'multiple', 'intelligent', 'aunt', 'royalty', 'wave', 'argentina', 'anti-abortion', 'milan', 'stature', 'relative', 'spot', '150', 'arriving', 'chest', 'buddhism', 'commandments', '2000', 'exactly', 'respected', 'vi', 'festivals', 'athens', 'shakur', '28', 'result', 'handwritten', 'abandoned', 'tax', 'acknowledged', 'plastic', 'reality', 'reminded', 'flee', 'executive', 'hot', '36', 'stressed', 'theodoridis', 'hillary', 'stamp', 'dialogue', 'launch', 'emperor', 'debut', 'killings', 'zakopane', 'allegedly', 'counter', 'self-styled', 'ordination', 'transition', 'nor', 'breathing', 'claimed', 'jr', 'highgrove', 'dangerous', 'frank', 'jamaica', 'institute', 'musical', 'scenes', 'bouche', 'fields', 'lebanon', 'regularly', 'loyalty', 'mosques', 'rocked', '1969', 'theft', 'gorbachev', 'absolute', 'baseball', 'laura', 'solution', 'typical', 'stock', 'explained', 'georgia', 'dangers', 'develop', 'aug', 'specifically', 'balabagan', 'prestigious', 'festivities', 'heavy', 'dancing', 'fiction', 'domestic', 'renat', 'donatella', 'bridges', 'sayer', 'bodies', 'buildings', 'slaughter', 'steady', 'disaster', 'complete', 'escorted', 'sees', 'copies', 'furniture', 'vegas', 'approval', 'gradually', 'inoperable', 'teachings', 'ash', 'estimate', 'passing', 'deaths', 'bureau', 'modest', 'absence', 'ghandi', 'scientific', 'virginia', 'ira', 'erupted', 'trendy', 'abdicate', 'illegal', 'astiz', 'prospect', 'knows', 'adhesions', 'loyal', 'feared', 'wilderness', 'minds', 'sensitive', 'blocks', 'precious', 'immigrant', 'acknowledge', 'hearing', 'recurrent', 'photograph', 'execution', 'heir-to-the-throne', 'open-air', 'rapper', 'remarried', '1967', 'teach', 'wild', 'retiring', '52', 'entry', 'lowell', 'ohio', '1953', '1941', 'delivered', 'mirror', 'discussed', 'hanoi', 'loves', 'entitled', 'freed', 'hip', 'presbyterian', 'belfast', 'outraged', 'norway', 'dardanelles', 'liberty', 'missing', 'convert', 'pull', 'ousted', 'hospitals', 'outpouring', 'document', 'concentration', 'donald', 'perverted', 'referendum', 'adored', 'peru', 'offers', 'treat', '30,000', 'imagine', 'label', 'shirt', 'turns', 'frankfurt', 'locals', 'cooperation', 'comedy', 'upper', 'delhi', 'highness', 'ruins', 'talent', 'verdi', 'goal', 'ralph', 'biographer', 'energy', 'losing', 'alzheimer', 'neighbours', 'goat', 'albums', '1920s', 'admire', 'minute', 'radical', 'bennett', 'two-week', 'earning', 'returns', 'ex-king', 'urban', 'profit', 'benjamin', 'silver', 'reasons', 'teachers', 'importance', 'geller', 'barred', 'purpose', 'authors', 'troubled', 'liked', 'founding', 'birthplace', '58', 'lama', 'auctioned', 'countrymen', 'notably', 'tension', 'hostages', 'shut', 'zong', 'nada', 'patterson', 'co', 'featured', 'reims', 'charitable', 'mourning', 'santo', 'list', 'daughter-in-law', 'training', 'somebody', 'liberals', 'allied', 'stole', 'expects', 'continent', 'anatoly', 'ring', 'commitment', 'bolsheviks', 'sinead', 'gyor', 'realise', 'dissident', 'ignored', 'pen', 'rein', 'everywhere', 'inflamed', 'suddenly', 'colony', 'blend', 'warning', 'plunge', 'fifth', 'barcelona', 'structure', 'venezuela', 'kathleen', 'macapagal', 'commentator', 'parishioners', 'baker', 'columnist', 'entrance', 'dispute', 'manni', 'cleric', 'ballot', 'minghella', 'salinas', 'leyland', 'individual', 'two-hour', 'rebellion', 'dna', 'demonstration', 'stands', 'preached', 'engaged', 'feast', 'drawn', 'heartbeat', 'finance', 'progress', 'paramount', 'timing', 'connection', '86th', 'maintaining', 'sector', 'exposure', 'quarter', 'partners', '600', 'cosentino', 'rangitikei', 'county', 'hamer', 'elegance', 'pilgrimage', 'merely', 'toured', 'virtually', 'colour', 'premier', 'contender', 'block', 'ranging', 'satisfy', 'shoes', 'arthur', 'resumed', 'sacked', 'learned', 'eruption', 'tributes', 'hudec', 'firmly', 'dresden', 'solo', 'honours', 'slavs', 'publicist', 'textbook', 'egypt', 'lunch', 'slipped', 'well-wishers', 'exhibit', 'proper', 'landless', 'sartre', 'sitting', 'arrangements', 'wisner', 'preserved', 'waite', 'anger', 'poorest', 'patrick', 'hunters', 'sydney', 'shattered', 'somewhat', 'raid', 'calcutta-based', '77', 'concept', '29', 'hans', 'tears', 'effect', 'carol', '40,000', 'nbc', 'pastor', 'baroque', 'circle', 'soft-spoken', 'wellington', 'post-war', 'evans', 'pretty', 'unions', 'owen', 'awaiting', 'seek', 'looted', 'cannes', 'herzog', 'seize', 'mountbatten', 'gallery', 'low-key', 'church-owned', 'index', 'rid', 'massive', 'largely', 'restaurant', 'activists', 'privately', 'fed', 'dollars', 'emil', 'heads', '84', 'knights', 'thien', 'reason', 'consumer', '1918', 'tumultuous', 'burning', 'critic', 'joked', 'dublin', 'rigidity', 'secretly', 'northeast', 'wear', 'opposing', 'mccurry', 'outstretched', 'divine', 'strike', 'dresses', 'owned', 'directed', 'potential', 'visitor', 'reverend', 'entire', 'genuinely', 'seminary', 'bc', 'reduce', 'societies', 'sculptures', 'towering', 'girlfriend', 'recognises', 'scepticism', 'roads', '20-year', 'ease', 'inauguration', 'matters', 'fly', 'kompromat', 'unless', 'divided', 'store', 'second-largest', 'dream', 'hierarchy', 'albanian', '81', 'parades', 'apartheid', 'presided', 'visible', '72', 'addressing', 'sued', 'settlers', 'benefit', 'ritual', 'salzburg', 'motion', 'assisted', 'armenians', 'suspicious', 'sarajevo', 'difficulty', 'disappearance', 'sophia', 'familiar', 'distance', 'trigger', 'scale', '10-day', 'avoid', 'jean-marie', 'soup', 'organise', 'literature', 'favours', 'lawyer', 'et', '1980s', 'none', 'noting', 'mixed', 'taped', 'clean', 'wehrmacht', 'assured', 'briefing', 'exercising', 'palestinian', 'neuilly', 'effective', 'vittorio', 'bribes', 'operated', 'likes', 'flamboyant', 'exist', 'meditate', 'roger', 'governors', '68-year-old', 'equivalent', 'jokes', '$1', 'emotionally', 'speculated', 'smaller', 'tender', 'tiny', 'increasing', 'fled', 'improvement', 'believers', 'parliamentary', 'lakeside', 'bikini-clad', 'spaniards', 'coffee', 'direct', 'indicated', 'secrecy', 'income', 'believing', 'businesses', 'chatterjee', 'whatever', 'cuts', 'write', 'villagers', 'albanian-born', 'belgium', 'nicole', 'unlikely', 'viii', 'harry', 'closet', 'prosecution', 'firing', 'joining', 'attract', 's.k', 'peninsula', 'threatening', 'contract', 'ronald', 'leaves', 'magazines', 'centrist', 'creighton', 'remarrying', 'welcomed', 'egyptian', 'luther', 'bomb', 'dili', '450', 'bar', 'wheelchair', 'denying', 'non-violent', 'loins', 'lucinschi', 'impose', 'avoided', 'underground', 'whoever', 'repeated', 'pleased', 'josef', 'passionate', 'cafe', 'woody', 'knelt', 'lobby', 'disappeared', '22', 'opportunity', 'complicated', 'parade', 'acclaimed', 'ivory', 'schemer', 'teenage', 'worship', 'driving', 'barbara', 'greet', 'effectively', 'dalai', 'centred', 'pianist', 'connecticut', 'upset', 'transfer', 'intimate', 'sergei', 'morgan', 'elton', 'celebrity', 'slave', 'captain', 'dynasty', 'appearing', 'bride', 'religions', 'oliver', 'conditions', 'expressions', 'aitken', 'legendary', 'intense', 'equally', 'battling', 'convalescence', 'flurry', 'tapes', 'sleep', 'hanging', 'pending', 'kkk', 'honest', 'bolshevik', 'foremost', 'mondrian', 'esquivel', '1984', 'nervous', 'elder', 'impossible', 'cautious', 'note', 'potent', 'fun', 'worries', 'shouted', 'hao', 'coptic', 'naked', 'advised', 'shanghai', 'lawsuits', 'walter', 'listening', 'confidence', 'bosnia', 'refrain', 'sounds', 'literally', 'watched', 'ocean', 'interested', 'shaping', 'explaining', 'organisations', 'manuscript', 'ships', 'experiences', 'drama', 'sicilian', 'ensure', 'fraud', 'votes', 'sentiment', 'lesbianism', 'causing', 'carefully', 'suggesting', 'beatles', 'japanese-americans', 'hits', 'intolerance', 'backs', 'unstable', 'walters', 'salvi', 'changing', 'intend', 'hype', 'mentioned', 'rising', 'garage', 'horse', 'colonial', 'recovering', 'v', 'commissioner', 'doors', 'suggestion', 'passport', '44', 'ages', 'text', 'articles', 'programmes', 'civic', 'promoting', 'pratt', 'patron', 'hoffman', 'flying', 'demonstrations', 'hired', 'monarchist', 'herrera', 'eternal', 'worshipped', 'blow', 'halls', 'walks', 'frustration', 'thich', 'contains', 'uncle', 'unsolved', '4,000', 'banners', 'pure', 'paris-based', 'viewed', 'freedoms', 'stated', 'cell', 'mourn', 'directly', 'alarm', 'numerous', 'female', 'treating', 'okay', 'toast', 'rarely', 'improving', 'progressive', 'direction', 'mothers', 'occupied', 'augenthaler', 'gutenberg', 'pinatubo', 'treasure', 'enduring', 'sincerity', 'forgiveness', 'warn', 'shaped', 'patients', 'stick', 'feminist', '2,500', 'ironically', 'participating', 'partner', 'capture', 'appearances', 'delay', 'secular', '1961', 'chanted', 'division', 'boys', 'belonged', 'pledge', 'aside', 'bowed', 'assistant', 'otherwise', 'interior', 'tissue', 'pose', 'atmosphere', 'mysterious', 'incident', 'unfortunately', 'goldie', 'break-up', 'patrons', 'push', 'pays', 'halt', 'ex-husband', 'walking', 'provided', 'spirits', 'educational', 'heavily', 'revered', 'seventh', 'guidelines', 'mikhail', 'developing', '4', 'confessed', 'bonds', 'recurrence', 'assassin', 'seagal', 'les', 'formal', 'tissues', 'train', 'baptism', 'distributed', 'estranged', 'arden', 'gennady', 'fail', 'approach', 'sadness', 'internal', 'repair', 'desperation', 'detained', 'charming', 'pieces', 'foreigners', 'clarence', 'laughed', 'patronage', 'priority', 'combat', 'export', 'threw', 'portrait', 'eulogy', 'excellent', 'papa', 'shrugged', 'partisan', 'tea', 'fallen', 'bout', 'drove', 'blocked', 'trends', 'federation', 'hatred', '350', '1920', 'covering', 'slavery', 'shape', 'jozef', 'panel', 'disclose', 'location', 'analyst', 'remaining', 'successfully', 'awkward', 'globe', 'bloc', 'spree', 'photographed', 'weather', 'shock', 'entourage', 'nemtsov', 'vision', 'photographer', 'wadowice', 'resident', 'lesbians', 'degree', 'stunning', 'brings', 'bulk', 'hadeln', 'co-chairman', 'trials', 'ornate', 'cnn', 'replaced', 'luzhkov', 'wind', 'salute', 'partly', 'confronted', 'drop-out', 'locked', 'machel', 'outcome', 'oil', 'regards', 'mutiny', 'scrawled', 'target', 'eulogised', 'rests', 'dearest', 'turkey', 'proposed', 'geneva', 'nuncio', 'average', 'physical', 'arab', 'dole', 'basically', 'clock', 'environment', 'arranged', 'absent', 'bullet', 'studios', 'cable', 'bruce', 'ponomaryov', 'gentleman', 'alain', 'long-term', 'pantheon', 'telephoned', 'reminder', 'please', 'symbolic', 'demonstrating', 'unhappy', 'individuals', 'angered', 'relax', '74', 'tupelo', 'window', 'refuge', 'newsroom', 'stripes', 'denies', 'diminutive', 'muhammad', 'bidding', 'administering', 'urine', 'cheerful', 'oslo', 'cracking', 'cluedo', 'leads', 'honeymoon', 's', 'subsidiaries', 'visibly', 'selfishness', 'blond', 'incision', 'nancy', 'racecourse', 'frenzy', 'oporto', 'ex-communist', 'equipment', 'gentle', 'interfax', 'admired', 'wars', 'pushed', 'notion', 'blocking', 'blaze', 'netherlands', 'integration', 'stripped', 'portman', 'slums', 'survey', 'fraction', '1944', 'o.j', 'huertas', 'grief', 'telegram', 'hearts', 'announcing', 'feted', 'improves', 'fascinated', 'tall', 'kempton', 'blacks', 'chair', 'talked', 'unveiled', 'priestly', 'outdoor', 'spared', 'generous', 'renew', 'kalyviotis', 'worry', 'possibly', 'awaited', 'extaordinary', 'jovial', 'possessions', 'marched', 'betrayed', 'finland', 'starring', 'withdraw', '68', 'performers', 'persuaded', 'desmond', 'wept', 'liberation', 'b.i.g', 'receive', 'british-born', 'succeeded', 'answer', 'sells', 'abortions', 'solitary', 'turin', 'anti-semitism', 'spanish-style', 'barring', 'defending', 'crosby', 'knowledge', 'permanent', 'reign', 'plunged', '18-year', '1968', 'featuring', 'smith', 'dear', 'gloucester', 'norman', 'aspects', 'management', 'isolated', 'agricultural', 'loving', 'passion', 'confirmation', 'sting', 'fiery', 'displayed', 'violently', 'atlantic', 'andre', 'disastrous', 'crowded', 'fiestas', 'witnesses', 'backdrop', 'appropriate', 'busy', 'buying', 'northwest', 'trading', 'philosophy', 'fur', 'tycoon', 'speculate', 'respond', 'strategic', 'encourage', 'tower', 'nobility', 'praising', 'il', 'allows', 'website', 'nomination', 'sharp', 'taste', 'replied', 'dividing', 'opposite', 'rosemary', 'haven', 'shy', 'results', 'thinks', 'puccini', 'nigeria', 'battery', 'dimona', 'cottage', 'drink', 'determine', 'sexy', 'create', 'videos', 'persecuted', 'london-based', 'offices', 'sit', 'breakdown', 'regret', 'judgment', 'christoff', 'novel', 'relationships', 'responded', 'trio', 'marxist', 'achievement', 'bright', 'chechen', 'ho', 'daughters', 'patriotic', 'languages', 'ballet', 'promotion', 'yastrzhembsky', 'apartment', 'lourdes', 'executed', 'brutality', 'naumov', 'descendants', 'costs', 'afraid', 'displaying', 'specialist', 'uprising', 'nightclubs', 'chronic', 'hat', 'races', 'concrete', 'vadim', 'servant', 'unpopular', '1,000-year-old', 'rivalry', 'maverick', 'gesture', 'separated', 'unemployment', 'value', 'dennis', 'attracted', '1937', 'comeback', 'remarriage', 'puts', 'investigations', 'samuel', 'smoking', 'mussolini', 'madras', 'briefs', 'flags', 'french-speaking', 'hawn', 'attraction', 'plot', 'conscience', 'attorneys', 'obvious', 'infant', 'fainted', 'dossetti', 'pro-catholic', 'madeleine', 'rituals', 'discussion', 'tune', 'waved', 'maseri', 'diplomats', 'rope', 'hideaway', 'function', 'destitutes', 'llakana', 'recipients', 'hamburg', 'meanwhile', 'beauty', 'attilio', 'domination', 'architectural', 'delays', 'noel', 'pool', 'alpine', 'dictionary', 'custody', 'museums', 'aristocrat', 'abuses', 'tenors', 'recovered', 'proof', 'forbidden', 'toll', 'stance', 'clerk', 'relief', 'nicolae', '1913', 'romantic', 'riding', 'falls', 'indians', 'column', 'notebook', 'fondly', 'prostitution', 'computer', 'easier', 'sharply', 'cane', 'nowhere', 'tent', '25,000', 'tennis', 'alfonso', 'crying', 'professional', 'christendom', 'roof', '35', 'beart', 'neighbourhoods', 'credited', 'profits', 'preparing', 'decline', 'guardian', 'lacking', 'frailty', 'object', 'mrta', 'unionists', 'nomadic', 'avid', 'dustin', 'albert', 'relaxed', 'heal', 'switched', 'speed', 'reunion', 'laughter', 'pioneered', 'annually', 'examinations', 'preparation', 'surely', 'engineer', 'sending', 'financed', 'challenges', 'real-life', 'missed', 'finest', 'affect', 'ninth', 'knife', 'hung', 'novelist', 'smoke', 'sentimental', 'tale', 'lawrence', 'cristina', '50-year-old', 'gruelling', 'rapidly', 'jailed')\n",
      "<class 'numpy.ndarray'>\n",
      "Topic 0: government british minister west group letters party\n",
      "Topic 1: church first during people political country ceremony\n",
      "Topic 2: elvis king wright fans presley concert life\n",
      "Topic 3: yeltsin russian russia president kremlin michael romania\n",
      "Topic 4: pope vatican paul surgery pontiff john hospital\n",
      "Topic 5: family police miami versace cunanan funeral home\n",
      "Topic 6: south simpson born york white north african\n",
      "Topic 7: order church mother successor since election religious\n",
      "Topic 8: charles prince diana royal queen king parker\n",
      "Topic 9: film france french against actor paris bardot\n",
      "Topic 10: germany german war nazi christian letter book\n",
      "Topic 11: east prize peace timor quebec belo indonesia\n",
      "Topic 12: n't told life people church show very\n",
      "Topic 13: years world time year last say three\n",
      "Topic 14: mother teresa heart charity calcutta missionaries sister\n",
      "Topic 15: city salonika exhibition buddhist byzantine vietnam swiss\n",
      "Topic 16: music first people tour including off opera\n",
      "Topic 17: church catholic bernardin cardinal bishop death cancer\n",
      "Topic 18: harriman clinton u.s churchill paris president ambassador\n",
      "Topic 19: century art million museum city churches works\n"
     ]
    }
   ],
   "source": [
    "import numpy as np\n",
    "import lda\n",
    "import lda.datasets\n",
    "X = lda.datasets.load_reuters()\n",
    "vocab = lda.datasets.load_reuters_vocab()\n",
    "titles = lda.datasets.load_reuters_titles()\n",
    "\n",
    "print(vocab)\n",
    "\n",
    "print(type(X))\n",
    "X.shape\n",
    "(395, 4258)\n",
    "\n",
    "\n",
    "\n",
    "model = lda.LDA(n_topics=20, n_iter=500, random_state=1)\n",
    "model.fit(X)\n",
    "topic_word = model.topic_word_  # model.components_ also works\n",
    "n_top_words = 8\n",
    "for i, topic_dist in enumerate(topic_word):\n",
    "    topic_words = np.array(vocab)[np.argsort(topic_dist)][:-n_top_words:-1]\n",
    "    print('Topic {}: {}'.format(i, ' '.join(topic_words)))"
   ]
  },
  {
   "cell_type": "code",
   "execution_count": 8,
   "metadata": {
    "collapsed": false
   },
   "outputs": [
    {
     "name": "stdout",
     "output_type": "stream",
     "text": [
      "10434\n",
      "19272\n"
     ]
    }
   ],
   "source": [
    "import numpy as np\n",
    "import networkx as nx\n",
    "import matplotlib.pyplot as plt\n",
    "import random\n",
    "import operator\n",
    "from nltk.tokenize import RegexpTokenizer\n",
    "from stop_words import get_stop_words\n",
    "from nltk.stem.porter import PorterStemmer\n",
    "from gensim import corpora, models\n",
    "import gensim\n",
    "\n",
    "tokenizer = RegexpTokenizer(r'\\w+')\n",
    "\n",
    "# create English stop words list\n",
    "en_stop = get_stop_words('en')\n",
    "\n",
    "# Create p_stemmer of class PorterStemmer\n",
    "p_stemmer = PorterStemmer()\n",
    "\n",
    "path_titles_meta = \"acl-metadata.txt\"\n",
    "\n",
    "\n",
    "\n",
    "\n",
    "f = open(path_titles_meta, \"r\", encoding=\"Latin-1\")\n",
    "\n",
    "# compile titles into a list\n",
    "titles = []\n",
    "titlesDict = {}\n",
    "# list for tokenized documents in loop\n",
    "texts = []\n",
    "\n",
    "#Extracting the titles from our meta-document\n",
    "for line in f:\n",
    "    if line.startswith('title'):\n",
    "        tmp = line.split(' = ',2)\n",
    "        title = tmp[1][1:len(tmp[1])-2] #last part: subtracts /n}; \n",
    "        titles.append(title)\n",
    "        titlesDict[title] = None\n",
    "\n",
    "\n",
    "\n",
    "# loop through title list    \n",
    "for i in titles:\n",
    "    # clean and tokenize document string\n",
    "    raw = i.lower()\n",
    "    tokens = tokenizer.tokenize(raw)\n",
    "    #show tokenized words\n",
    "    #print(tokens)\n",
    "    \n",
    "    # remove stop words from tokens\n",
    "    stopped_tokens = [i for i in tokens if not i in en_stop]\n",
    "   \n",
    "    \n",
    "    # stem token \"-e are lost??\" \n",
    "    stemmed_tokens = [p_stemmer.stem(i) for i in stopped_tokens]\n",
    "    #print(stemmed_tokens)\n",
    "    \n",
    "    # add tokens to list\n",
    "    texts.append(stopped_tokens)\n",
    "    \n",
    "# turn our tokenized documents into a id <-> term dictionary\n",
    "dictionary = corpora.Dictionary(texts)\n",
    "\n",
    "\n",
    "\n",
    "# convert tokenized documents into a document-term matrix\n",
    "corpus = [dictionary.doc2bow(text) for text in texts]\n",
    "print(max([v for s in corpus for v, _ in s]))\n",
    "\n",
    "# generate LDA model\n",
    "#ldamodel = gensim.models.ldamodel.LdaModel(corpus, num_topics=5, id2word = dictionary, passes=20)\n",
    "\n",
    "#print(ldamodel.print_topics(num_topics=5, num_words=5))\n",
    "\n",
    "\n",
    "print(len(titlesDict.keys()))\n",
    "\n",
    "\n",
    "\n",
    "\n",
    "\n",
    "\n",
    "\n",
    "    \n",
    "\n",
    "    "
   ]
  },
  {
   "cell_type": "code",
   "execution_count": 12,
   "metadata": {
    "collapsed": false
   },
   "outputs": [
    {
     "name": "stdout",
     "output_type": "stream",
     "text": [
      "(19424, 10435)\n"
     ]
    }
   ],
   "source": [
    "from scipy.sparse import csr_matrix\n",
    "dictionary_len = max([v for s in corpus for v, _ in s]) + 1\n",
    "document_len = len(corpus)\n",
    "converted_input = csr_matrix((document_len, dictionary_len), dtype=np.int16).toarray()\n",
    "print(converted_input.shape)\n",
    "tup_dict = corpus\n",
    "\n",
    "for i in range(len(tup_dict)):\n",
    "    for (word_idx, count) in tup_dict[i]:\n",
    "        converted_input [i, word_idx] = count\n",
    "        \n",
    "corpus = converted_input"
   ]
  },
  {
   "cell_type": "code",
   "execution_count": 3,
   "metadata": {
    "collapsed": false
   },
   "outputs": [],
   "source": [
    "vocab = []\n",
    "for i in range(len(dictionary.keys())):\n",
    "    vocab.append(dictionary.get(i))"
   ]
  },
  {
   "cell_type": "code",
   "execution_count": 16,
   "metadata": {
    "collapsed": false
   },
   "outputs": [
    {
     "name": "stdout",
     "output_type": "stream",
     "text": [
      "Topic 0: translation machine statistical based phrase models model\n",
      "Topic 1: language natural system processing understanding text muc\n",
      "Topic 2: task corpus system annotation lexical english resources\n",
      "Topic 3: discourse resolution semantics expressions structure relations semantic\n",
      "Topic 4: information text extraction automatic summarization using document\n",
      "Topic 5: speech word segmentation chinese recognition based tagging\n",
      "Topic 6: semantic learning using entity based named extraction\n",
      "Topic 7: dialogue system spoken systems question answering speech\n",
      "Topic 8: parsing grammar dependency grammars based tree parser\n",
      "Topic 9: word using semantic sense disambiguation corpora based\n"
     ]
    }
   ],
   "source": [
    "import lda\n",
    "import lda.datasets\n",
    "\n",
    "\n",
    "model = lda.LDA(n_topics=10, n_iter=500, random_state=1)\n",
    "model.fit(corpus)\n",
    "topic_word = model.topic_word_  # model.components_ also works\n",
    "n_top_words = 8\n",
    "for i, topic_dist in enumerate(topic_word):\n",
    "    topic_words = np.array(vocab)[np.argsort(topic_dist)][:-n_top_words:-1]\n",
    "    print('Topic {}: {}'.format(i, ' '.join(topic_words)))\n",
    "    "
   ]
  },
  {
   "cell_type": "code",
   "execution_count": 17,
   "metadata": {
    "collapsed": false
   },
   "outputs": [],
   "source": [
    "cls = model.transform(corpus)"
   ]
  },
  {
   "cell_type": "code",
   "execution_count": 25,
   "metadata": {
    "collapsed": false
   },
   "outputs": [
    {
     "name": "stdout",
     "output_type": "stream",
     "text": [
      "On Dual Decomposition and Linear Programming Relaxations for Natural Language Processing 1.0\n"
     ]
    }
   ],
   "source": [
    "print(str(titles[0]) + \" \" + str(sum(cls[0])))"
   ]
  },
  {
   "cell_type": "code",
   "execution_count": 21,
   "metadata": {
    "collapsed": false
   },
   "outputs": [
    {
     "name": "stdout",
     "output_type": "stream",
     "text": [
      "[[  2.38101563e-03   5.08116203e-01   1.88984235e-04 ...,   1.10990872e-03\n",
      "    4.83456293e-01   3.71172180e-05]\n",
      " [  3.12578534e-03   1.71827469e-05   1.74323423e-05 ...,   2.02850931e-04\n",
      "    1.74136511e-01   6.69978849e-04]\n",
      " [  1.06211220e-02   9.59833830e-05   9.73807811e-05 ...,   9.02747207e-05\n",
      "    4.41382039e-01   3.48628315e-02]\n",
      " ..., \n",
      " [  3.85420805e-01   8.22656858e-04   3.60968487e-03 ...,   9.16467163e-03\n",
      "    2.65831058e-01   5.16231324e-03]\n",
      " [  8.34445220e-04   9.07619963e-02   5.27530529e-03 ...,   5.11023519e-02\n",
      "    5.70016574e-01   1.54159639e-04]\n",
      " [  4.29919164e-01   9.02211774e-05   5.83253155e-04 ...,   1.57704693e-03\n",
      "    4.70973438e-01   8.00296463e-02]]\n"
     ]
    }
   ],
   "source": [
    "print(cls)"
   ]
  },
  {
   "cell_type": "code",
   "execution_count": 28,
   "metadata": {
    "collapsed": true
   },
   "outputs": [],
   "source": [
    "path_titles_meta_lda = \"acl-metadata-lda.txt\"\n",
    "\n",
    "\n",
    "f = open(path_titles_meta_lda, \"w\", encoding=\"Latin-1\")\n",
    "\n",
    "for i in range(len(titles)):\n",
    "    f.write(str(titles[i]) + \"\\t\" + str(cls[i]) + \"\\n\")\n",
    "f.close()\n",
    "\n"
   ]
  },
  {
   "cell_type": "code",
   "execution_count": null,
   "metadata": {
    "collapsed": true
   },
   "outputs": [],
   "source": []
  }
 ],
 "metadata": {
  "anaconda-cloud": {},
  "kernelspec": {
   "display_name": "Python [Root]",
   "language": "python",
   "name": "Python [Root]"
  },
  "language_info": {
   "codemirror_mode": {
    "name": "ipython",
    "version": 3
   },
   "file_extension": ".py",
   "mimetype": "text/x-python",
   "name": "python",
   "nbconvert_exporter": "python",
   "pygments_lexer": "ipython3",
   "version": "3.5.2"
  }
 },
 "nbformat": 4,
 "nbformat_minor": 0
}
