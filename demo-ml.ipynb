{
 "cells": [
  {
   "cell_type": "code",
   "execution_count": 1,
   "metadata": {
    "collapsed": false
   },
   "outputs": [],
   "source": [
    "from sklearn import svm\n",
    "from sklearn import datasets\n",
    "\n",
    "def train(data, targets):\n",
    "    \"\"\"\n",
    "    data: list of list describing the sample\n",
    "    targets: list of label\n",
    "    \n",
    "    e.g. \n",
    "    data = [[1,2,3], [3,4,5]]\n",
    "    targets = [0,1]\n",
    "    \"\"\"\n",
    "    \n",
    "    clf = svm.SVC()\n",
    "    clf.fit(data,targets)\n",
    "    \n",
    "    return clf\n",
    "\n",
    "def test(data, targets, model):\n",
    "    \"\"\"\n",
    "    classifies the data and return accuracy\n",
    "    \"\"\"\n",
    "    predict = model.predict(data)\n",
    "    correct = [1 for i in range(predict) if predict[i] == targets[i] ]\n",
    "    return sum(correct)/float(len(targets))\n",
    "    \n"
   ]
  },
  {
   "cell_type": "code",
   "execution_count": null,
   "metadata": {
    "collapsed": false
   },
   "outputs": [],
   "source": []
  },
  {
   "cell_type": "code",
   "execution_count": null,
   "metadata": {
    "collapsed": false
   },
   "outputs": [],
   "source": []
  },
  {
   "cell_type": "code",
   "execution_count": null,
   "metadata": {
    "collapsed": true
   },
   "outputs": [],
   "source": []
  }
 ],
 "metadata": {
  "kernelspec": {
   "display_name": "Python 2",
   "language": "python",
   "name": "python2"
  },
  "language_info": {
   "codemirror_mode": {
    "name": "ipython",
    "version": 2
   },
   "file_extension": ".py",
   "mimetype": "text/x-python",
   "name": "python",
   "nbconvert_exporter": "python",
   "pygments_lexer": "ipython2",
   "version": "2.7.11"
  }
 },
 "nbformat": 4,
 "nbformat_minor": 0
}
